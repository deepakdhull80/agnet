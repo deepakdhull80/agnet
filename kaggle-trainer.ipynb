{
 "cells": [
  {
   "cell_type": "code",
   "execution_count": null,
   "id": "flexible-wages",
   "metadata": {},
   "outputs": [],
   "source": [
    "!rm -rf ./agnet\n",
    "!git clone https://github.com/deepakdhull80/agnet.git"
   ]
  },
  {
   "cell_type": "code",
   "execution_count": null,
   "id": "essential-ancient",
   "metadata": {},
   "outputs": [],
   "source": [
    "import yaml\n",
    "import pandas as pd\n",
    "df = pd.read_csv(\"/kaggle/input/face-image-dataset/face_kaggle.csv\")\n",
    "df['file_path'] = df['file_path'].map(lambda x: x.replace('\\\\','/').replace(\"dataset/\",''))\n",
    "df.to_csv(\"/kaggle/working/face_kaggle.csv\",index=False)"
   ]
  },
  {
   "cell_type": "code",
   "execution_count": null,
   "id": "chronic-strengthening",
   "metadata": {},
   "outputs": [],
   "source": [
    "with open('./agnet/agnet/config.yaml', 'r') as file:\n",
    "    config = yaml.full_load(file)\n",
    "\n",
    "config['data']['batch_size'] = 128\n",
    "config['model']['tqdm_enable'] = False\n",
    "print(config)"
   ]
  },
  {
   "cell_type": "code",
   "execution_count": null,
   "id": "rotary-salvation",
   "metadata": {},
   "outputs": [],
   "source": [
    "with open('./agnet/agnet/config.yaml', 'w') as file:\n",
    "    yaml.dump(config, file)"
   ]
  },
  {
   "cell_type": "code",
   "execution_count": null,
   "id": "capable-entertainment",
   "metadata": {},
   "outputs": [],
   "source": [
    "!python agnet/agnet/train.py \\\n",
    "        -c agnet/agnet/config.yaml \\\n",
    "        -vv=base_resnet34 \\\n",
    "        -d=cuda \\\n",
    "        -fp=/kaggle/working/face_kaggle.csv \\\n",
    "        -ip=/kaggle/input/age-prediction"
   ]
  }
 ],
 "metadata": {
  "kernelspec": {
   "display_name": "image",
   "language": "python",
   "name": "image"
  },
  "language_info": {
   "codemirror_mode": {
    "name": "ipython",
    "version": 3
   },
   "file_extension": ".py",
   "mimetype": "text/x-python",
   "name": "python",
   "nbconvert_exporter": "python",
   "pygments_lexer": "ipython3",
   "version": "3.9.2"
  }
 },
 "nbformat": 4,
 "nbformat_minor": 5
}
