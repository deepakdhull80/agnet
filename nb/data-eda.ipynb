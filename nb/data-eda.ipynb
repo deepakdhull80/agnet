{
 "cells": [
  {
   "attachments": {},
   "cell_type": "markdown",
   "id": "f1cec17a-36d1-432f-8e98-3987ff7d415c",
   "metadata": {},
   "source": [
    "### Dataset\n",
    "\n",
    "TFKFace : https://drive.google.com/drive/folders/1HROmgviy4jUUUaCdvvrQ8PcqtNg2jn3G <br>\n",
    "kaggle_age_prediction: https://www.kaggle.com/datasets/mariafrenti/age-prediction <br>\n",
    "imdbface: https://data.vision.ee.ethz.ch/cvl/rrothe/imdb-wiki/ <br>"
   ]
  },
  {
   "cell_type": "code",
   "execution_count": null,
   "id": "2d6103f3-f944-46fe-9732-1c14cee02914",
   "metadata": {},
   "outputs": [],
   "source": []
  },
  {
   "attachments": {},
   "cell_type": "markdown",
   "id": "592f4e63-34e4-4e81-bc1b-254a37f24cec",
   "metadata": {},
   "source": [
    "### EDA"
   ]
  },
  {
   "cell_type": "code",
   "execution_count": 1,
   "id": "27e05a05-28c9-48d5-855f-77bd49803065",
   "metadata": {},
   "outputs": [],
   "source": [
    "import pandas as pd\n",
    "from glob import glob\n",
    "from PIL import Image\n",
    "import numpy as np\n",
    "import torch\n",
    "import torchvision"
   ]
  },
  {
   "cell_type": "code",
   "execution_count": 3,
   "id": "859de36a-bbff-4f19-93c1-616328d4bcb7",
   "metadata": {},
   "outputs": [],
   "source": [
    "# UTKFace\n",
    "files = glob(\"dataset/utkface/*/*.jpg\")"
   ]
  },
  {
   "cell_type": "code",
   "execution_count": 5,
   "id": "c9857430-dd83-45db-80b5-33a8c0bef972",
   "metadata": {
    "tags": []
   },
   "outputs": [
    {
     "data": {
      "text/plain": [
       "13648"
      ]
     },
     "execution_count": 5,
     "metadata": {},
     "output_type": "execute_result"
    }
   ],
   "source": [
    "len(files)"
   ]
  },
  {
   "cell_type": "code",
   "execution_count": 6,
   "id": "f8efc16c-855a-4420-a817-5ac31fe6189b",
   "metadata": {},
   "outputs": [
    {
     "data": {
      "text/plain": [
       "'dataset/utkface\\\\part1\\\\100_1_0_20170110183726390.jpg'"
      ]
     },
     "execution_count": 6,
     "metadata": {},
     "output_type": "execute_result"
    }
   ],
   "source": [
    "files[0]"
   ]
  },
  {
   "cell_type": "code",
   "execution_count": 7,
   "id": "1131de25-0a41-48ae-911d-2b730be46ddc",
   "metadata": {},
   "outputs": [],
   "source": [
    "face_df = pd.DataFrame()"
   ]
  },
  {
   "cell_type": "code",
   "execution_count": 8,
   "id": "4c5a02bd-29a7-4ee1-bb25-827321ccba4d",
   "metadata": {},
   "outputs": [],
   "source": [
    "face_df['file_path'] = files"
   ]
  },
  {
   "cell_type": "code",
   "execution_count": 9,
   "id": "063636ce",
   "metadata": {},
   "outputs": [],
   "source": [
    "face_df['gender'] = list(map(lambda x: int(x.split('\\\\')[-1].split('_')[1]), files))"
   ]
  },
  {
   "cell_type": "code",
   "execution_count": 15,
   "id": "1e07bde1",
   "metadata": {},
   "outputs": [],
   "source": [
    "face_df = face_df[face_df['gender'].map(lambda x: x in [0,1])]"
   ]
  },
  {
   "cell_type": "code",
   "execution_count": 16,
   "id": "eab49313",
   "metadata": {},
   "outputs": [
    {
     "data": {
      "text/plain": [
       "0    6939\n",
       "1    6708\n",
       "Name: gender, dtype: int64"
      ]
     },
     "execution_count": 16,
     "metadata": {},
     "output_type": "execute_result"
    }
   ],
   "source": [
    "face_df['gender'].value_counts()"
   ]
  },
  {
   "cell_type": "code",
   "execution_count": 20,
   "id": "b5349de5-d867-4d7f-92f2-00be39951f65",
   "metadata": {},
   "outputs": [],
   "source": [
    "face_df['age'] = face_df['file_path'].map(lambda x: int(x.split(\"\\\\\")[-1].split(\"_\")[0]))"
   ]
  },
  {
   "cell_type": "code",
   "execution_count": 61,
   "id": "1af8b1e3-83c5-4747-bfc6-5207ac58690c",
   "metadata": {},
   "outputs": [
    {
     "data": {
      "text/html": [
       "<div>\n",
       "<style scoped>\n",
       "    .dataframe tbody tr th:only-of-type {\n",
       "        vertical-align: middle;\n",
       "    }\n",
       "\n",
       "    .dataframe tbody tr th {\n",
       "        vertical-align: top;\n",
       "    }\n",
       "\n",
       "    .dataframe thead th {\n",
       "        text-align: right;\n",
       "    }\n",
       "</style>\n",
       "<table border=\"1\" class=\"dataframe\">\n",
       "  <thead>\n",
       "    <tr style=\"text-align: right;\">\n",
       "      <th></th>\n",
       "      <th>file_path</th>\n",
       "      <th>age</th>\n",
       "    </tr>\n",
       "  </thead>\n",
       "  <tbody>\n",
       "    <tr>\n",
       "      <th>0</th>\n",
       "      <td>dataset\\utkface\\part1\\100_1_0_2017011018372639...</td>\n",
       "      <td>100</td>\n",
       "    </tr>\n",
       "    <tr>\n",
       "      <th>1</th>\n",
       "      <td>dataset\\utkface\\part1\\100_1_2_2017010517484767...</td>\n",
       "      <td>100</td>\n",
       "    </tr>\n",
       "    <tr>\n",
       "      <th>2</th>\n",
       "      <td>dataset\\utkface\\part1\\100_1_2_2017011018283672...</td>\n",
       "      <td>100</td>\n",
       "    </tr>\n",
       "    <tr>\n",
       "      <th>3</th>\n",
       "      <td>dataset\\utkface\\part1\\101_1_2_2017010517473930...</td>\n",
       "      <td>101</td>\n",
       "    </tr>\n",
       "    <tr>\n",
       "      <th>4</th>\n",
       "      <td>dataset\\utkface\\part1\\10_0_0_20161220222308131...</td>\n",
       "      <td>10</td>\n",
       "    </tr>\n",
       "  </tbody>\n",
       "</table>\n",
       "</div>"
      ],
      "text/plain": [
       "                                           file_path  age\n",
       "0  dataset\\utkface\\part1\\100_1_0_2017011018372639...  100\n",
       "1  dataset\\utkface\\part1\\100_1_2_2017010517484767...  100\n",
       "2  dataset\\utkface\\part1\\100_1_2_2017011018283672...  100\n",
       "3  dataset\\utkface\\part1\\101_1_2_2017010517473930...  101\n",
       "4  dataset\\utkface\\part1\\10_0_0_20161220222308131...   10"
      ]
     },
     "execution_count": 61,
     "metadata": {},
     "output_type": "execute_result"
    }
   ],
   "source": [
    "face_df.head()"
   ]
  },
  {
   "cell_type": "code",
   "execution_count": 22,
   "id": "bfc21081-b1fd-449e-9b6d-8f218a5ef64f",
   "metadata": {},
   "outputs": [
    {
     "data": {
      "text/plain": [
       "<AxesSubplot:>"
      ]
     },
     "execution_count": 22,
     "metadata": {},
     "output_type": "execute_result"
    },
    {
     "data": {
      "image/png": "[encoded data removed]",
      "text/plain": [
       "<Figure size 432x288 with 1 Axes>"
      ]
     },
     "metadata": {
      "needs_background": "light"
     },
     "output_type": "display_data"
    }
   ],
   "source": [
    "face_df['age'].hist(bins=100)"
   ]
  },
  {
   "cell_type": "code",
   "execution_count": 62,
   "id": "bd114db2-7609-4f9f-9555-a33c5db00b20",
   "metadata": {},
   "outputs": [],
   "source": [
    "face_df.to_csv(\"./dataset/face_utkface.csv\",index=False)"
   ]
  },
  {
   "cell_type": "code",
   "execution_count": null,
   "id": "ff62635a-cd0b-4dbf-a766-654780ae8c67",
   "metadata": {},
   "outputs": [],
   "source": []
  },
  {
   "cell_type": "code",
   "execution_count": 47,
   "id": "38ebbde0-6dcd-4b2e-99ba-e4f4c6b169bd",
   "metadata": {},
   "outputs": [],
   "source": [
    "# kaggle\n",
    "files2 = glob(\"dataset/*/*/*/*/*.jpg\")"
   ]
  },
  {
   "cell_type": "code",
   "execution_count": 48,
   "id": "8054488b-0fca-4eea-a80d-a4c9ec4df7b3",
   "metadata": {},
   "outputs": [
    {
     "data": {
      "text/plain": [
       "273640"
      ]
     },
     "execution_count": 48,
     "metadata": {},
     "output_type": "execute_result"
    }
   ],
   "source": [
    "len(files2)"
   ]
  },
  {
   "cell_type": "code",
   "execution_count": 54,
   "id": "8ae0da5e-869c-4812-b1de-2455e89ab176",
   "metadata": {},
   "outputs": [],
   "source": [
    "face_df2 = pd.DataFrame()"
   ]
  },
  {
   "cell_type": "code",
   "execution_count": 55,
   "id": "91a67a6c-4a26-4859-ad3b-f394ab47562e",
   "metadata": {},
   "outputs": [],
   "source": [
    "face_df2['file_path'] = files2"
   ]
  },
  {
   "cell_type": "code",
   "execution_count": 57,
   "id": "be319b0e-a455-4b60-960e-743b10b37917",
   "metadata": {},
   "outputs": [
    {
     "data": {
      "text/html": [
       "<div>\n",
       "<style scoped>\n",
       "    .dataframe tbody tr th:only-of-type {\n",
       "        vertical-align: middle;\n",
       "    }\n",
       "\n",
       "    .dataframe tbody tr th {\n",
       "        vertical-align: top;\n",
       "    }\n",
       "\n",
       "    .dataframe thead th {\n",
       "        text-align: right;\n",
       "    }\n",
       "</style>\n",
       "<table border=\"1\" class=\"dataframe\">\n",
       "  <thead>\n",
       "    <tr style=\"text-align: right;\">\n",
       "      <th></th>\n",
       "      <th>file_path</th>\n",
       "    </tr>\n",
       "  </thead>\n",
       "  <tbody>\n",
       "    <tr>\n",
       "      <th>0</th>\n",
       "      <td>dataset\\20-50\\20-50\\test\\20\\28492.jpg</td>\n",
       "    </tr>\n",
       "    <tr>\n",
       "      <th>1</th>\n",
       "      <td>dataset\\20-50\\20-50\\test\\20\\28521.jpg</td>\n",
       "    </tr>\n",
       "    <tr>\n",
       "      <th>2</th>\n",
       "      <td>dataset\\20-50\\20-50\\test\\20\\28681.jpg</td>\n",
       "    </tr>\n",
       "    <tr>\n",
       "      <th>3</th>\n",
       "      <td>dataset\\20-50\\20-50\\test\\20\\28801.jpg</td>\n",
       "    </tr>\n",
       "    <tr>\n",
       "      <th>4</th>\n",
       "      <td>dataset\\20-50\\20-50\\test\\20\\28815.jpg</td>\n",
       "    </tr>\n",
       "  </tbody>\n",
       "</table>\n",
       "</div>"
      ],
      "text/plain": [
       "                               file_path\n",
       "0  dataset\\20-50\\20-50\\test\\20\\28492.jpg\n",
       "1  dataset\\20-50\\20-50\\test\\20\\28521.jpg\n",
       "2  dataset\\20-50\\20-50\\test\\20\\28681.jpg\n",
       "3  dataset\\20-50\\20-50\\test\\20\\28801.jpg\n",
       "4  dataset\\20-50\\20-50\\test\\20\\28815.jpg"
      ]
     },
     "execution_count": 57,
     "metadata": {},
     "output_type": "execute_result"
    }
   ],
   "source": [
    "face_df2.head()"
   ]
  },
  {
   "cell_type": "code",
   "execution_count": 58,
   "id": "c0dceb14-fe29-4d9a-9c21-996486bcedb6",
   "metadata": {},
   "outputs": [],
   "source": [
    "face_df2['age'] = face_df2['file_path'].map(lambda x: int(x.split(\"\\\\\")[-2]))"
   ]
  },
  {
   "cell_type": "code",
   "execution_count": 60,
   "id": "1d7e2fd8-9abb-4426-97be-8063825a6e46",
   "metadata": {},
   "outputs": [
    {
     "data": {
      "text/plain": [
       "<AxesSubplot:>"
      ]
     },
     "execution_count": 60,
     "metadata": {},
     "output_type": "execute_result"
    },
    {
     "data": {
      "image/png": "[encoded data removed]",
      "text/plain": [
       "<Figure size 432x288 with 1 Axes>"
      ]
     },
     "metadata": {
      "needs_background": "light"
     },
     "output_type": "display_data"
    }
   ],
   "source": [
    "face_df2['age'].hist(bins=100)"
   ]
  },
  {
   "cell_type": "code",
   "execution_count": 63,
   "id": "08262047-b836-4f11-a52f-1606f96cb528",
   "metadata": {},
   "outputs": [],
   "source": [
    "face_df2.to_csv(\"./dataset/face_kaggle.csv\",index=False)"
   ]
  },
  {
   "cell_type": "code",
   "execution_count": null,
   "id": "988a886d-b9d3-4cc3-80cc-f9944188567e",
   "metadata": {},
   "outputs": [],
   "source": []
  },
  {
   "cell_type": "code",
   "execution_count": null,
   "id": "452f94bb-3335-42ff-ab49-efcffacaf3da",
   "metadata": {},
   "outputs": [],
   "source": []
  },
  {
   "cell_type": "code",
   "execution_count": 65,
   "id": "e9bdce8b-e17c-4561-ab69-d8ff2f36fcc3",
   "metadata": {},
   "outputs": [],
   "source": [
    "a = torch.randn(1,2)"
   ]
  },
  {
   "cell_type": "code",
   "execution_count": null,
   "id": "248d7a1e-85d3-4352-8fc7-5d6384214027",
   "metadata": {},
   "outputs": [],
   "source": []
  },
  {
   "attachments": {},
   "cell_type": "markdown",
   "id": "unnecessary-queue",
   "metadata": {},
   "source": [
    "## AGNet"
   ]
  },
  {
   "attachments": {},
   "cell_type": "markdown",
   "id": "electric-capacity",
   "metadata": {},
   "source": [
    "### config"
   ]
  },
  {
   "cell_type": "code",
   "execution_count": 32,
   "id": "hourly-kentucky",
   "metadata": {},
   "outputs": [],
   "source": [
    "config = {\n",
    "    \"data\":{\n",
    "        \n",
    "    },\n",
    "    \"model\":{\n",
    "        \n",
    "    }\n",
    "}"
   ]
  },
  {
   "cell_type": "code",
   "execution_count": null,
   "id": "hungry-graham",
   "metadata": {},
   "outputs": [],
   "source": []
  },
  {
   "attachments": {},
   "cell_type": "markdown",
   "id": "falling-thousand",
   "metadata": {},
   "source": [
    "### Base model"
   ]
  },
  {
   "cell_type": "code",
   "execution_count": 2,
   "id": "rental-spouse",
   "metadata": {},
   "outputs": [],
   "source": [
    "import torch\n",
    "import torchvision"
   ]
  },
  {
   "cell_type": "code",
   "execution_count": 103,
   "id": "corresponding-monte",
   "metadata": {},
   "outputs": [
    {
     "data": {
      "text/plain": [
       "tensor([0, 0, 0, 0, 0, 0, 0, 0, 0, 0, 1, 0, 0, 0, 0, 0, 0, 0, 0, 0, 0, 0, 0, 0,\n",
       "        0, 0, 0, 0, 0, 0, 0, 0, 0, 0, 0, 0, 0, 0, 0, 0, 0, 0, 0, 0, 0, 0, 0, 0,\n",
       "        0, 0, 0, 0, 0, 0, 0, 0, 0, 0, 0, 0, 0, 0, 0, 0, 0, 0, 0, 0, 0, 0, 0, 0,\n",
       "        0, 0, 0, 0, 0, 0, 0, 0, 0, 0, 0, 0, 0, 0, 0, 0, 0, 0, 0, 0, 0, 0, 0, 0,\n",
       "        0, 0, 0, 0])"
      ]
     },
     "execution_count": 103,
     "metadata": {},
     "output_type": "execute_result"
    }
   ],
   "source": [
    "torch.nn.functional.one_hot(torch.tensor(10),num_classes=100)"
   ]
  },
  {
   "cell_type": "code",
   "execution_count": 91,
   "id": "fallen-hearing",
   "metadata": {},
   "outputs": [],
   "source": [
    "model = torchvision.models.resnet34(pretrained=True)"
   ]
  },
  {
   "cell_type": "code",
   "execution_count": 92,
   "id": "entertaining-surprise",
   "metadata": {},
   "outputs": [
    {
     "name": "stdout",
     "output_type": "stream",
     "text": [
      "fc.weight\n",
      "fc.bias\n"
     ]
    }
   ],
   "source": [
    "for name, param in model.named_parameters():\n",
    "#     print(name)\n",
    "    if 'fc' not in name:\n",
    "        param.requires_grad = False\n",
    "    else:\n",
    "        print(name)"
   ]
  },
  {
   "cell_type": "code",
   "execution_count": 93,
   "id": "frank-jaguar",
   "metadata": {},
   "outputs": [],
   "source": [
    "model.fc = torch.nn.Sequential(*[torch.nn.Linear(512, 100), torch.nn.ReLU()])"
   ]
  },
  {
   "cell_type": "code",
   "execution_count": 97,
   "id": "serial-reminder",
   "metadata": {},
   "outputs": [
    {
     "name": "stdout",
     "output_type": "stream",
     "text": [
      "False\n",
      "False\n",
      "False\n",
      "False\n",
      "False\n",
      "False\n",
      "False\n",
      "False\n",
      "False\n",
      "False\n",
      "False\n",
      "False\n",
      "False\n",
      "False\n",
      "False\n",
      "False\n",
      "False\n",
      "False\n",
      "False\n",
      "False\n",
      "False\n",
      "False\n",
      "False\n",
      "False\n",
      "False\n",
      "False\n",
      "False\n",
      "False\n",
      "False\n",
      "False\n",
      "False\n",
      "False\n",
      "False\n",
      "False\n",
      "False\n",
      "False\n",
      "False\n",
      "False\n",
      "False\n",
      "False\n",
      "False\n",
      "False\n",
      "False\n",
      "False\n",
      "False\n",
      "False\n",
      "False\n",
      "False\n",
      "False\n",
      "False\n",
      "False\n",
      "False\n",
      "False\n",
      "False\n",
      "False\n",
      "False\n",
      "False\n",
      "False\n",
      "False\n",
      "False\n",
      "False\n",
      "False\n",
      "False\n",
      "False\n",
      "False\n",
      "False\n",
      "False\n",
      "False\n",
      "False\n",
      "False\n",
      "False\n",
      "False\n",
      "False\n",
      "False\n",
      "False\n",
      "False\n",
      "False\n",
      "False\n",
      "False\n",
      "False\n",
      "False\n",
      "False\n",
      "False\n",
      "False\n",
      "False\n",
      "False\n",
      "False\n",
      "False\n",
      "False\n",
      "False\n",
      "False\n",
      "False\n",
      "False\n",
      "False\n",
      "False\n",
      "False\n",
      "False\n",
      "False\n",
      "False\n",
      "False\n",
      "False\n",
      "False\n",
      "False\n",
      "False\n",
      "False\n",
      "False\n",
      "False\n",
      "False\n",
      "True\n",
      "True\n"
     ]
    }
   ],
   "source": [
    "for i in model.parameters():\n",
    "    print(i.requires_grad)"
   ]
  },
  {
   "cell_type": "code",
   "execution_count": 99,
   "id": "pressed-lambda",
   "metadata": {},
   "outputs": [
    {
     "data": {
      "text/plain": [
       "SGD (\n",
       "Parameter Group 0\n",
       "    dampening: 0\n",
       "    lr: 10\n",
       "    maximize: False\n",
       "    momentum: 0\n",
       "    nesterov: False\n",
       "    weight_decay: 0\n",
       ")"
      ]
     },
     "execution_count": 99,
     "metadata": {},
     "output_type": "execute_result"
    }
   ],
   "source": [
    "torch.optim.SGD(filter(lambda x: x.requires_grad, model.parameters()), lr= 10)"
   ]
  },
  {
   "attachments": {},
   "cell_type": "markdown",
   "id": "residential-george",
   "metadata": {},
   "source": [
    "### DataLoader"
   ]
  },
  {
   "cell_type": "code",
   "execution_count": null,
   "id": "outer-consent",
   "metadata": {},
   "outputs": [],
   "source": []
  },
  {
   "cell_type": "code",
   "execution_count": null,
   "id": "according-tobago",
   "metadata": {},
   "outputs": [],
   "source": []
  },
  {
   "attachments": {},
   "cell_type": "markdown",
   "id": "amino-tourist",
   "metadata": {},
   "source": [
    "### Hyperparameter tuning"
   ]
  },
  {
   "cell_type": "code",
   "execution_count": null,
   "id": "realistic-title",
   "metadata": {},
   "outputs": [],
   "source": []
  },
  {
   "cell_type": "code",
   "execution_count": null,
   "id": "facial-things",
   "metadata": {},
   "outputs": [],
   "source": []
  },
  {
   "cell_type": "code",
   "execution_count": null,
   "id": "hidden-split",
   "metadata": {},
   "outputs": [],
   "source": []
  },
  {
   "attachments": {},
   "cell_type": "markdown",
   "id": "outer-renaissance",
   "metadata": {},
   "source": [
    "### Train model"
   ]
  },
  {
   "cell_type": "code",
   "execution_count": null,
   "id": "wrapped-dealing",
   "metadata": {},
   "outputs": [],
   "source": []
  },
  {
   "cell_type": "code",
   "execution_count": null,
   "id": "cloudy-rwanda",
   "metadata": {},
   "outputs": [],
   "source": []
  },
  {
   "cell_type": "code",
   "execution_count": null,
   "id": "dressed-fairy",
   "metadata": {},
   "outputs": [],
   "source": []
  },
  {
   "cell_type": "code",
   "execution_count": null,
   "id": "oriented-philadelphia",
   "metadata": {},
   "outputs": [],
   "source": []
  },
  {
   "cell_type": "code",
   "execution_count": null,
   "id": "fifth-fitness",
   "metadata": {},
   "outputs": [],
   "source": []
  }
 ],
 "metadata": {
  "kernelspec": {
   "display_name": "image",
   "language": "python",
   "name": "python3"
  },
  "language_info": {
   "codemirror_mode": {
    "name": "ipython",
    "version": 3
   },
   "file_extension": ".py",
   "mimetype": "text/x-python",
   "name": "python",
   "nbconvert_exporter": "python",
   "pygments_lexer": "ipython3",
   "version": "3.9.2"
  }
 },
 "nbformat": 4,
 "nbformat_minor": 5
}
