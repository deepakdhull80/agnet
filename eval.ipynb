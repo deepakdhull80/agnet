{
 "cells": [
  {
   "cell_type": "code",
   "execution_count": 13,
   "metadata": {},
   "outputs": [
    {
     "name": "stderr",
     "output_type": "stream",
     "text": [
      "d:\\Research Lab\\computer vision\\env\\image\\lib\\site-packages\\tqdm\\auto.py:22: TqdmWarning: IProgress not found. Please update jupyter and ipywidgets. See https://ipywidgets.readthedocs.io/en/stable/user_install.html\n",
      "  from .autonotebook import tqdm as notebook_tqdm\n"
     ]
    }
   ],
   "source": [
    "from typing import *\n",
    "import os\n",
    "import argparse\n",
    "import yaml\n",
    "from PIL import Image\n",
    "import numpy as np\n",
    "import cv2 as cv\n",
    "import torch\n",
    "import torchvision\n",
    "from facenet_pytorch import MTCNN\n",
    "from tqdm import tqdm\n",
    "\n",
    "from agnet.model import AGNet\n",
    "\n",
    "from agnet.predict import Predictor"
   ]
  },
  {
   "cell_type": "code",
   "execution_count": 14,
   "metadata": {},
   "outputs": [],
   "source": [
    "config = yaml.load(open(\"./agnet/predict_config.yaml\",'r'))\n",
    "FACE_MARGIN = config['model']['FACE_MARGIN']\n",
    "FACE_PRESENT_THRESHOLD = config['model'].get(\"FACE_PRESENT_THRESHOLD\",0.7)\n",
    "device = torch.device(\"cpu\")\n",
    "\n",
    "mtcnn = MTCNN(image_size=config['data']['IMAGE_SIZE'], device=device)\n",
    "\n",
    "GENDER_PREDICT_THRESHOLD = 0.5\n",
    "gender_base_model = getattr(torchvision.models, config['model']['gender_base_model'])()\n",
    "gender_dict = dict(\n",
    "    _base_model=config['model']['gender_base_model'],\n",
    "    output_dim=1,\n",
    "    mlp_layer_name=\"\",\n",
    "    transfer_learning=False\n",
    ")\n"
   ]
  },
  {
   "cell_type": "code",
   "execution_count": 15,
   "metadata": {},
   "outputs": [],
   "source": [
    "def load_weights(model: torch.nn.Module, ck_path):\n",
    "    params = torch.load(ck_path)\n",
    "    print(model.load_state_dict(params['state_dict']))\n",
    "    return model"
   ]
  },
  {
   "cell_type": "code",
   "execution_count": 16,
   "metadata": {},
   "outputs": [
    {
     "name": "stdout",
     "output_type": "stream",
     "text": [
      " resnet34\n",
      "<All keys matched successfully>\n"
     ]
    }
   ],
   "source": [
    "\n",
    "gender_model = AGNet(gender_base_model,  **gender_dict)\n",
    "gender_model = load_weights(gender_model, config['model']['gender_model_path'])\n",
    "\n",
    "predictor = Predictor(\n",
    "    mtcnn, \n",
    "    gender_model=gender_model, \n",
    "    device=device,\n",
    "    image_size=config['data']['IMAGE_SIZE'],\n",
    "    face_image_size=config['data']['FACE_IMAGE_SIZE'],\n",
    "    FACE_PRESENT_THRESHOLD=FACE_PRESENT_THRESHOLD,\n",
    "    GENDER_PREDICT_THRESHOLD=GENDER_PREDICT_THRESHOLD,\n",
    ")"
   ]
  },
  {
   "cell_type": "code",
   "execution_count": 20,
   "metadata": {},
   "outputs": [],
   "source": [
    "image_path = \"D:/WORK/freelance/agnet/dataset/utkface/part1/100_1_0_20170110183726390.jpg\""
   ]
  },
  {
   "cell_type": "code",
   "execution_count": 67,
   "metadata": {},
   "outputs": [],
   "source": [
    "image_path = file_path"
   ]
  },
  {
   "cell_type": "code",
   "execution_count": 68,
   "metadata": {},
   "outputs": [],
   "source": [
    "res = predictor.predict_byfile(image_path)"
   ]
  },
  {
   "cell_type": "code",
   "execution_count": 69,
   "metadata": {},
   "outputs": [
    {
     "data": {
      "text/plain": [
       "{'image': <PIL.JpegImagePlugin.JpegImageFile image mode=RGB size=350x289>,\n",
       " 'total_face_present': 1,\n",
       " 'predict': [{'box': array([126.88154602050781, 54.62134552001953, 237.12985229492188,\n",
       "          191.15176391601562], dtype=object),\n",
       "   'face_logits': 0.9991934895515442,\n",
       "   'gender': 'male',\n",
       "   'gender_score': 0.9228393584489822}],\n",
       " 'file_path': 'D:/WORK/freelance/agnet/dataset/utkface/part1/85_1_0_20170110183801752.jpg'}"
      ]
     },
     "execution_count": 69,
     "metadata": {},
     "output_type": "execute_result"
    }
   ],
   "source": [
    "res"
   ]
  },
  {
   "cell_type": "code",
   "execution_count": 71,
   "metadata": {},
   "outputs": [
    {
     "data": {
      "image/png": "[encoded data removed]",
      "text/plain": [
       "<PIL.Image.Image image mode=RGB size=110x136>"
      ]
     },
     "execution_count": 71,
     "metadata": {},
     "output_type": "execute_result"
    }
   ],
   "source": [
    "res['image'].crop(res['predict'][0]['box'])"
   ]
  },
  {
   "cell_type": "code",
   "execution_count": 1,
   "metadata": {},
   "outputs": [],
   "source": [
    "import pandas as pd"
   ]
  },
  {
   "cell_type": "code",
   "execution_count": 2,
   "metadata": {},
   "outputs": [],
   "source": [
    "df = pd.read_csv(\"test/eval/eval_utkface.csv\")"
   ]
  },
  {
   "cell_type": "code",
   "execution_count": 3,
   "metadata": {},
   "outputs": [
    {
     "data": {
      "text/plain": [
       "0                      7742\n",
       "1                      5471\n",
       "0|0                     173\n",
       "1|0                     100\n",
       "0|0|0                    18\n",
       "1|1                      15\n",
       "0|1                      15\n",
       "1|0|0                    10\n",
       "0|0|1                     4\n",
       "0|0|0|0                   4\n",
       "1|0|1                     2\n",
       "1|1|0                     2\n",
       "1|0|0|0                   2\n",
       "0|0|0|0|0                 1\n",
       "1|0|0|0|0|0|0|0|0         1\n",
       "1|0|0|0|0|0               1\n",
       "1|1|0|0                   1\n",
       "0|0|0|1                   1\n",
       "1|0|0|1|1|0|0|0|0|0       1\n",
       "0|0|1|0                   1\n",
       "0|1|0                     1\n",
       "Name: p_gender, dtype: int64"
      ]
     },
     "execution_count": 3,
     "metadata": {},
     "output_type": "execute_result"
    }
   ],
   "source": [
    "df['p_gender'].value_counts()"
   ]
  },
  {
   "cell_type": "code",
   "execution_count": 27,
   "metadata": {},
   "outputs": [],
   "source": [
    "f_df = df[df['p_gender'].map(lambda x: \"|\" not in str(x))]"
   ]
  },
  {
   "cell_type": "code",
   "execution_count": 33,
   "metadata": {},
   "outputs": [],
   "source": [
    "f_df.dropna(inplace=True)"
   ]
  },
  {
   "cell_type": "code",
   "execution_count": 28,
   "metadata": {},
   "outputs": [],
   "source": [
    "from sklearn.metrics import classification_report"
   ]
  },
  {
   "cell_type": "code",
   "execution_count": 39,
   "metadata": {},
   "outputs": [],
   "source": [
    "f_df = f_df[f_df['gender'].map(lambda x:x in [0,1])]"
   ]
  },
  {
   "cell_type": "code",
   "execution_count": 40,
   "metadata": {},
   "outputs": [],
   "source": [
    "predicted = f_df['p_gender'].map(lambda x: int(x))"
   ]
  },
  {
   "cell_type": "code",
   "execution_count": 41,
   "metadata": {},
   "outputs": [],
   "source": [
    "truth = f_df['gender'].map(lambda x: int(x))"
   ]
  },
  {
   "cell_type": "code",
   "execution_count": 66,
   "metadata": {},
   "outputs": [
    {
     "name": "stdout",
     "output_type": "stream",
     "text": [
      "D:/WORK/freelance/agnet/dataset/utkface/part1/85_1_0_20170110183801752.jpg\n"
     ]
    }
   ],
   "source": [
    "file_path = f_df[predicted != truth].sample(1).iloc[0]['file_paths']\n",
    "print(file_path)"
   ]
  },
  {
   "cell_type": "code",
   "execution_count": 42,
   "metadata": {},
   "outputs": [
    {
     "name": "stdout",
     "output_type": "stream",
     "text": [
      "              precision    recall  f1-score   support\n",
      "\n",
      "           0       0.75      0.87      0.80      6707\n",
      "           1       0.84      0.70      0.76      6505\n",
      "\n",
      "    accuracy                           0.79     13212\n",
      "   macro avg       0.79      0.79      0.78     13212\n",
      "weighted avg       0.79      0.79      0.78     13212\n",
      "\n"
     ]
    }
   ],
   "source": [
    "print(classification_report(truth, predicted))"
   ]
  }
 ],
 "metadata": {
  "kernelspec": {
   "display_name": "image",
   "language": "python",
   "name": "python3"
  },
  "language_info": {
   "codemirror_mode": {
    "name": "ipython",
    "version": 3
   },
   "file_extension": ".py",
   "mimetype": "text/x-python",
   "name": "python",
   "nbconvert_exporter": "python",
   "pygments_lexer": "ipython3",
   "version": "3.9.2"
  },
  "orig_nbformat": 4
 },
 "nbformat": 4,
 "nbformat_minor": 2
}
